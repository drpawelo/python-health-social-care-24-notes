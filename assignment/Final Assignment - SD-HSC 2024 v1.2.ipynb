{
 "cells": [
  {
   "cell_type": "markdown",
   "metadata": {},
   "source": [
    "# Final Assignment\n",
    "\n",
    "Final assignment for Introduction to software development in health and social care (2021-2022) works the same way as your draft assignment. You are asked to write **TWO SEPARATE MINI-REPORTS**, each accompanied by code and a visualisation.\n",
    "\n",
    "In Learn you will accurate and up to date details about:\n",
    "\n",
    "- submission deadlines\n",
    "- marking criteria\n",
    "- where and in what format to submit\n",
    "- more info about the three components of each mini-report (code, visualisation, written mini-report)\n",
    "\n",
    "One way to think about the reports is: Imagine you are an NHS junior data analyst and you are responding by email to a journalist. Try to explain things they might not know. Focus on what they might find interesting in your writeup. Make your visualisation understandable and well signposted.\n",
    "\n",
    "Important bits:\n",
    "\n",
    "- remember you need to submit two independent mini-reports (each consisting of: code, visualisation & written report)\n",
    "- do not share your code for this assignment on Learn - this is an individual university assignment, and normal rules of 'own work' and plagiarism apply.\n",
    "- signpost your work with headers (ex. \"report 1 code\", \"report 1 visualisation\", \"report 2 code\" etc)\n",
    "- do your work in this notebook, details of submission will be in learn\n",
    "- written part of mini-reports will be short, about 2 paragraphs of text (200 words +/- 10%) explaining what you saw in the data, what question you identified, and how you answered it with code."
   ]
  },
  {
   "cell_type": "markdown",
   "metadata": {},
   "source": [
    "### Data you are given two datasets describing boards (areas) of NHS Scotland:\n",
    "\n",
    "- Covid across the boards\n",
    "- NHS boards in Scotland information\n",
    "\n",
    "As last time, your task is to:\n",
    "\n",
    "- look at the data\n",
    "- find a question that can be answered with this data (even if quite simple)\n",
    "- write code that answers that question\n",
    "- visualise the output of your code (as graph, or prints)\n",
    "- write a short mini-report about what you found"
   ]
  },
  {
   "cell_type": "markdown",
   "metadata": {},
   "source": [
    "### Example questions\n",
    "\n",
    "It's your task to come up with a question that you can answer with this data.\n",
    "\n",
    "- what can you say about different NHS Boards from this data? Look at the data available: size, population, budget etc.\n",
    "- Are there any patterns in covid reporting in this data? You can focus on one day, or one area, or one measure."
   ]
  },
  {
   "cell_type": "markdown",
   "metadata": {},
   "source": [
    "### Your submission\n",
    "\n",
    "More details will be in learn, but your submission will be this notebook. You will submit it in two formats:\n",
    "\n",
    "- as this notebook file (.ipynb). You can download it with File > Download as > Notebook\n",
    "- as pdf file (.pdf). You can generate it with File > Download as > Pdf via latex. If that doesn't work, you try File > Print Preview, and then save it as pdf. Do not worry if your graphs do not work in pdf or look weird - we'll use notebooks for marking, and pdf is mainly a backup."
   ]
  },
  {
   "cell_type": "markdown",
   "metadata": {},
   "source": [
    "### Starting code"
   ]
  },
  {
   "cell_type": "code",
   "execution_count": 1,
   "metadata": {},
   "outputs": [],
   "source": [
    "# the usual imports\n",
    "from plotly.subplots import make_subplots\n",
    "import plotly.graph_objects as go"
   ]
  },
  {
   "cell_type": "code",
   "execution_count": 2,
   "metadata": {},
   "outputs": [],
   "source": [
    "import pprint as pp\n",
    "from datetime import datetime, timedelta, date, timezone\n",
    "import json"
   ]
  },
  {
   "cell_type": "code",
   "execution_count": 3,
   "metadata": {},
   "outputs": [],
   "source": [
    "# this function just loads the data from files, there is no need to understand how it does it.\n",
    "def load_json_file_named(file_name):\n",
    "    try: \n",
    "        loaded_data = []\n",
    "        file_location = f\"../data/{file_name}\"\n",
    "        with open(file_location, 'r') as file: # or f\"data/{file_name}\" depending on your files\n",
    "            loaded_data =  json.load(file)\n",
    "    except OSError as e:\n",
    "        print(f\"Error. Does the file exist in this folder? {file_location}\\n\\n {e}\")\n",
    "    return loaded_data\n",
    "\n",
    "boards_info = load_json_file_named('nhs_boards_24.json')\n",
    "covid_days = load_json_file_named('scotland_covid_days24.json')\n"
   ]
  },
  {
   "cell_type": "code",
   "execution_count": 4,
   "metadata": {},
   "outputs": [
    {
     "name": "stdout",
     "output_type": "stream",
     "text": [
      "Boards: 14\n"
     ]
    },
    {
     "data": {
      "text/plain": [
       "[[{'geo': {'area_km2': 2924,\n",
       "    'locations': 'East Ayrshire, North Ayrshire, South Ayrshire'},\n",
       "   'budget_mil': {'2020': 694.9, '2021': 720.0, '2022': 762.4},\n",
       "   'name': 'NHS Ayrshire and Arran',\n",
       "   'people': {'patients': 369670, 'staff': 9491}}],\n",
       " [{'geo': {'area_km2': 4732, 'locations': 'Scottish Borders'},\n",
       "   'budget_mil': {'2020': 200.6, '2021': 207.7, '2022': 219.8},\n",
       "   'name': 'NHS Borders',\n",
       "   'people': {'patients': 115270, 'staff': 2627}}],\n",
       " [{'geo': {'area_km2': 6216, 'locations': 'Dumfries and Galloway'},\n",
       "   'budget_mil': {'2020': 289.1, '2021': 299.1, '2022': 316.1},\n",
       "   'name': 'NHS Dumfries and Galloway',\n",
       "   'people': {'patients': 148790, 'staff': 3832}}],\n",
       " [{'geo': {'area_km2': 1235, 'locations': 'Fife'},\n",
       "   'budget_mil': {'2020': 636.6, '2021': 661.4, '2022': 701.5},\n",
       "   'name': 'NHS Fife',\n",
       "   'people': {'patients': 371910, 'staff': 7683}}],\n",
       " [{'geo': {'area_km2': 2643,\n",
       "    'locations': 'Clackmannanshire, Falkirk, Stirling'},\n",
       "   'budget_mil': {'2020': 506.8, '2021': 527.0, '2022': 558.7},\n",
       "   'name': 'NHS Forth Valley',\n",
       "   'people': {'patients': 306070, 'staff': 5419}}],\n",
       " [{'geo': {'area_km2': 8736,\n",
       "    'locations': 'Aberdeenshire, City of Aberdeen, Moray'},\n",
       "   'budget_mil': {'2020': 920.6, '2021': 957.9, '2022': 1013.5},\n",
       "   'name': 'NHS Grampian',\n",
       "   'people': {'patients': 584550, 'staff': 12952}}],\n",
       " [{'geo': {'area_km2': 1106,\n",
       "    'locations': 'City of Glasgow, East Dunbartonshire, East Renfrewshire, Inverclyde, Renfrewshire, West Dunbartonshire'},\n",
       "   'budget_mil': {'2020': 2154.5, '2021': 2231.2, '2022': 2364.7},\n",
       "   'name': 'NHS Greater Glasgow and Clyde',\n",
       "   'people': {'patients': 1174980, 'staff': 38000}}],\n",
       " [{'geo': {'area_km2': 32566, 'locations': 'Highland, Argyll and Bute'},\n",
       "   'budget_mil': {'2020': 604.3, '2021': 627.5, '2022': 666.0},\n",
       "   'name': 'NHS Highland',\n",
       "   'people': {'patients': 321800, 'staff': 8564}}],\n",
       " [{'geo': {'area_km2': 4732,\n",
       "    'locations': 'North Lanarkshire, South Lanarkshire'},\n",
       "   'budget_mil': {'2020': 1156.1, '2021': 1199.3, '2022': 1268.1},\n",
       "   'name': 'NHS Lanarkshire',\n",
       "   'people': {'patients': 659200, 'staff': 11641}}],\n",
       " [{'geo': {'area_km2': 1471,\n",
       "    'locations': 'City of Edinburgh, East Lothian, Midlothian, West Lothian'},\n",
       "   'budget_mil': {'2020': 1384.3, '2021': 1441.5, '2022': 1540.1},\n",
       "   'name': 'NHS Lothian',\n",
       "   'people': {'patients': 897770, 'staff': 21921}}],\n",
       " [{'geo': {'area_km2': 989, 'locations': 'Orkney Islands'},\n",
       "   'budget_mil': {'2020': 47.7, '2021': 49.6, '2022': 52.6},\n",
       "   'name': 'NHS Orkney',\n",
       "   'people': {'patients': 22190, 'staff': 565}}],\n",
       " [{'geo': {'area_km2': 1467, 'locations': 'Shetland Islands'},\n",
       "   'budget_mil': {'2020': 48.7, '2021': 50.6, '2022': 53.9},\n",
       "   'name': 'NHS Shetland',\n",
       "   'people': {'patients': 22990, 'staff': 598}}],\n",
       " [{'geo': {'area_km2': 7527,\n",
       "    'locations': 'Angus, City of Dundee, Perth and Kinross'},\n",
       "   'budget_mil': {'2020': 734.8, '2021': 762.9, '2022': 808.5},\n",
       "   'name': 'NHS Tayside',\n",
       "   'people': {'patients': 416080, 'staff': 11460}}],\n",
       " [{'geo': {'area_km2': 3070, 'locations': 'Outer Hebrides'},\n",
       "   'budget_mil': {'2020': 73.0, '2021': 75.7, '2022': 80.0},\n",
       "   'name': 'NHS Western Isles',\n",
       "   'people': {'patients': 26830, 'staff': 821}}]]"
      ]
     },
     "execution_count": 4,
     "metadata": {},
     "output_type": "execute_result"
    }
   ],
   "source": [
    "# print number of boards and all boards info\n",
    "print(f\"Boards: {len(boards_info)}\")\n",
    "boards_info"
   ]
  },
  {
   "cell_type": "code",
   "execution_count": 5,
   "metadata": {},
   "outputs": [
    {
     "name": "stdout",
     "output_type": "stream",
     "text": [
      "Covid days info: 749\n"
     ]
    },
    {
     "data": {
      "text/plain": [
       "{'date': {'raw': 20200228, 'year': 2020, 'month': 2, 'day': 28, 'day_id': 1},\n",
       " 'boards': {'NHS Ayrshire and Arran': {'positive': 0,\n",
       "   'deaths': 0,\n",
       "   'first_infections': 0,\n",
       "   'reinfections': 0},\n",
       "  'NHS Borders': {'positive': 0,\n",
       "   'deaths': 0,\n",
       "   'first_infections': 0,\n",
       "   'reinfections': 0},\n",
       "  'NHS Dumfries and Galloway': {'positive': 0,\n",
       "   'deaths': 0,\n",
       "   'first_infections': 0,\n",
       "   'reinfections': 0},\n",
       "  'NHS Fife': {'positive': 0,\n",
       "   'deaths': 0,\n",
       "   'first_infections': 0,\n",
       "   'reinfections': 0},\n",
       "  'NHS Forth Valley': {'positive': 0,\n",
       "   'deaths': 0,\n",
       "   'first_infections': 0,\n",
       "   'reinfections': 0},\n",
       "  'NHS Grampian': {'positive': 0,\n",
       "   'deaths': 0,\n",
       "   'first_infections': 0,\n",
       "   'reinfections': 0},\n",
       "  'NHS Greater Glasgow and Clyde': {'positive': 0,\n",
       "   'deaths': 0,\n",
       "   'first_infections': 0,\n",
       "   'reinfections': 0},\n",
       "  'NHS Highland': {'positive': 0,\n",
       "   'deaths': 0,\n",
       "   'first_infections': 0,\n",
       "   'reinfections': 0},\n",
       "  'NHS Lanarkshire': {'positive': 0,\n",
       "   'deaths': 0,\n",
       "   'first_infections': 0,\n",
       "   'reinfections': 0},\n",
       "  'NHS Lothian': {'positive': 0,\n",
       "   'deaths': 0,\n",
       "   'first_infections': 0,\n",
       "   'reinfections': 0},\n",
       "  'NHS Orkney': {'positive': 0,\n",
       "   'deaths': 0,\n",
       "   'first_infections': 0,\n",
       "   'reinfections': 0},\n",
       "  'NHS Shetland': {'positive': 0,\n",
       "   'deaths': 0,\n",
       "   'first_infections': 0,\n",
       "   'reinfections': 0},\n",
       "  'NHS Tayside': {'positive': 1,\n",
       "   'deaths': 0,\n",
       "   'first_infections': 1,\n",
       "   'reinfections': 0},\n",
       "  'NHS Western Isles': {'positive': 0,\n",
       "   'deaths': 0,\n",
       "   'first_infections': 0,\n",
       "   'reinfections': 0}},\n",
       " 'scotland': {'positive': 1,\n",
       "  'deaths': 0,\n",
       "  'first_infections': 1,\n",
       "  'reinfections': 0}}"
      ]
     },
     "execution_count": 5,
     "metadata": {},
     "output_type": "execute_result"
    }
   ],
   "source": [
    "# print number of days and one day info\n",
    "print(f\"Covid days info: {len(covid_days)}\")\n",
    "covid_days[0]"
   ]
  },
  {
   "cell_type": "code",
   "execution_count": null,
   "metadata": {},
   "outputs": [],
   "source": []
  },
  {
   "cell_type": "markdown",
   "metadata": {},
   "source": [
    "### End of starting code!"
   ]
  },
  {
   "cell_type": "markdown",
   "metadata": {},
   "source": [
    "# Report 1: "
   ]
  },
  {
   "cell_type": "markdown",
   "metadata": {},
   "source": [
    "## Your Code:"
   ]
  },
  {
   "cell_type": "code",
   "execution_count": null,
   "metadata": {},
   "outputs": [],
   "source": []
  },
  {
   "cell_type": "code",
   "execution_count": null,
   "metadata": {},
   "outputs": [],
   "source": []
  },
  {
   "cell_type": "code",
   "execution_count": null,
   "metadata": {},
   "outputs": [],
   "source": []
  },
  {
   "cell_type": "markdown",
   "metadata": {},
   "source": [
    "## Visualisation:"
   ]
  },
  {
   "cell_type": "code",
   "execution_count": null,
   "metadata": {},
   "outputs": [],
   "source": []
  },
  {
   "cell_type": "code",
   "execution_count": null,
   "metadata": {},
   "outputs": [],
   "source": []
  },
  {
   "cell_type": "markdown",
   "metadata": {},
   "source": [
    "## Your mini-report:"
   ]
  },
  {
   "cell_type": "markdown",
   "metadata": {},
   "source": [
    "report here"
   ]
  },
  {
   "cell_type": "markdown",
   "metadata": {},
   "source": [
    "# Report 2: "
   ]
  },
  {
   "cell_type": "markdown",
   "metadata": {},
   "source": [
    "## Your Code:"
   ]
  },
  {
   "cell_type": "code",
   "execution_count": null,
   "metadata": {},
   "outputs": [],
   "source": []
  },
  {
   "cell_type": "code",
   "execution_count": null,
   "metadata": {},
   "outputs": [],
   "source": []
  },
  {
   "cell_type": "code",
   "execution_count": null,
   "metadata": {},
   "outputs": [],
   "source": []
  },
  {
   "cell_type": "markdown",
   "metadata": {},
   "source": [
    "## Visualisation:"
   ]
  },
  {
   "cell_type": "code",
   "execution_count": null,
   "metadata": {},
   "outputs": [],
   "source": []
  },
  {
   "cell_type": "code",
   "execution_count": null,
   "metadata": {},
   "outputs": [],
   "source": []
  },
  {
   "cell_type": "markdown",
   "metadata": {},
   "source": [
    "## Your mini-report:"
   ]
  },
  {
   "cell_type": "markdown",
   "metadata": {},
   "source": [
    "report here"
   ]
  },
  {
   "cell_type": "code",
   "execution_count": null,
   "metadata": {},
   "outputs": [],
   "source": []
  }
 ],
 "metadata": {
  "kernelspec": {
   "display_name": "Python 3 (ipykernel)",
   "language": "python",
   "name": "python3"
  },
  "language_info": {
   "codemirror_mode": {
    "name": "ipython",
    "version": 3
   },
   "file_extension": ".py",
   "mimetype": "text/x-python",
   "name": "python",
   "nbconvert_exporter": "python",
   "pygments_lexer": "ipython3",
   "version": "3.11.8"
  }
 },
 "nbformat": 4,
 "nbformat_minor": 4
}
