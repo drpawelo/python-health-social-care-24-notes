{
 "cells": [
  {
   "cell_type": "markdown",
   "metadata": {},
   "source": [
    "# TestDrive assignment: Like the real assignment, but optional and does not count towards your grade.\n",
    "\n",
    "In this notebook:\n",
    "\n",
    "- explanation of the assignment\n",
    "- marking criteria\n",
    "- data and starting code for your 'testdrive' assignment\n",
    "- submission template"
   ]
  },
  {
   "cell_type": "markdown",
   "metadata": {},
   "source": [
    "# What is TestDrive this assignment about:\n",
    "\n",
    "In this assignment you will role-play (pretend) that you are a junior data analyst for NHS.\n",
    "\n",
    "Your task is to look at a dataset of all 15060 GP practices in England and Wales. What can you tell about this set? Are there any insights about the locations or activity of these in there, even thou the data is quite limited? Try to find something interesting, then visualise it and describe what you found in 200 words."
   ]
  },
  {
   "cell_type": "markdown",
   "metadata": {},
   "source": [
    "# What to do for this TrestDrive assignment?\n",
    "\n",
    "- Have a look at the data, try writing some code that tells you what information is there, and what could be interesting to look at?\n",
    "- identify an interesting question that this data could answer (see examples below)\n",
    "- write code that will answer that question. If writing helper functions, can they be tested?\n",
    "- visualise your findings as a simple graph, or even a printed text (try to lay it out so that it looks good).\n",
    "- write abotu 2 paragraphs of text (200 words +/- 10%) explaining what you saw in the data, what question you identified, and how you answered it with code."
   ]
  },
  {
   "cell_type": "markdown",
   "metadata": {},
   "source": [
    "# How it fits within the course? How to submit and how to get feedback?\n",
    "\n",
    "- if you can come to the pair programming lab for week 4, bring your work with you. During the lab you will be able to discuss it with your partner and with the instructors.\n",
    "- to submit the TestDrive assignment, submit your code, and report via Learn in the Forum. Use the code button {...} when including python code, if you can, so that it is better formatted. PLEASE INCLUDE YOUR NOTEBOOK AS AN ATTACHMENT if you know how.\n",
    "- all those who submit their TestDrive assignment until the date mentioned in Learn, will recieve feedback. Everybody's feedback will be visible to everybody, so that we can all learn better. (Remember this feedback does nto have impact on your grades and is just for you to learn better)"
   ]
  },
  {
   "cell_type": "markdown",
   "metadata": {},
   "source": [
    "## Differences and simmilarities between this TestDrive assignment and the final actual assignment:\n",
    "\n",
    "Simmilarities:\n",
    "\n",
    "\n",
    "- identical sumbission components (code, visualisation, mini-report)\n",
    "- simmilar data and tasks.\n",
    "- you will be given feedback and points\n",
    "\n",
    "Differences:\n",
    "\n",
    "- points do not count towards your mark (this testdrive assignment is purely 'formative' i.e. here to help you learn more and better)\n",
    "- you will submit this via Learn Forum, and will be given feedback there. This way everyone can learn from everyone else's code and feedback.\n",
    "- here you will only ask and answer ONE task i.e. ONE 'business question'. So you are writing 1 mini-report. "
   ]
  },
  {
   "cell_type": "markdown",
   "metadata": {},
   "source": [
    "## 1. Deliverables FOR EACH TASK: Code + Mini-report + Visualisation\n",
    "\n",
    "(in this TestDrive you have just one Task, btu final assignment will have 2 separate tasks)\n",
    "\n",
    "For each task, please include the following:\n",
    "\n",
    "- all the **code** that you used to arrive at the conclusion. \n",
    "- a cell with your **mini-report** (200 words +/- 10%). (example in notebook `Mini-report example`)\n",
    "- a cell that will generate the **visualisation** (graph, table or print) that accompanies your mini-report. (read how to manipulate strings in `badge 9` and how to create graphs in `badge 12`)"
   ]
  },
  {
   "cell_type": "markdown",
   "metadata": {},
   "source": [
    "### Code\n",
    "\n",
    "In your notebook please include all the **code** that you used to arrive at the conclusion. \n",
    "\n",
    "- It is absolutely ok to re-use your own code from one question in another question\n",
    "- But please write the most important parts of code for each Question that help you to answer the question \n",
    "\n",
    "\n",
    "### Mini-report\n",
    "\n",
    "At the end of your notebook, for each Task, you should provide:\n",
    "\n",
    "- a markdown (text) cell with your mini-report (200 words +/- 10%). For reference, 'Marking criteria' section below has around 450 words)\n",
    "\n",
    "### Visualisation\n",
    "\n",
    "Use the data you extracted to further your argument with visualisations:\n",
    "\n",
    "- a cell that will generate the graph or table that accompanies your mini-report. You are allowed to combine a number of graphs (eg. three similar graphs side-by-side) or prints, if they work together and advance your argument."
   ]
  },
  {
   "cell_type": "markdown",
   "metadata": {},
   "source": [
    "## 2. Marking Criteria for each Mini Report: \n",
    "\n",
    "**Business Question and Answer:**\n",
    "\n",
    "Did you manage to find a question that can be answered with given data? As an analyst, you will often have to dive into available data and identify how it can help the business, or solve a problem, without first knowing what the problem is. Also, can you formulate a clear answer to the question you created?\n",
    " \n",
    "- 50% - C - GOOD - question and answer are clear, well defined and connect with the dataset\n",
    "- 60% - B - VERY GOOD - argument is clearly positioned in a business context, and attempts to provide value/insight\n",
    "- 70% - A - EXCELLENT - insights are novel, actionable and the writeup is of publishable quality.\n",
    "\n",
    "**Using the Data:**\n",
    "\n",
    "How well did you use the data to answer your question? Your answer should be supported by what you found in the data. Briefly describe why this was the correct data, and the correct analysis to perform on it.\n",
    " \n",
    "- 50% - C - GOOD - data selected is appropriate for the task, analysis is clear, the source is mentioned\n",
    "- 60% - B - VERY GOOD - data analysis section advances the argument, makes a clear point and is easy to read and understand\n",
    "- 70% - A - EXCELLENT - analysis is insightful, using multiple parts of the data set in a creative way\n",
    "\n",
    "**Visualisation:**\n",
    "\n",
    "Can you aid your argument/answer with visual clues? A graph can say a thousand words, but it is also easy to make one that is confusing, or misleading. Use simple (or highly customised) graphs to make your argument clearer.\n",
    " \n",
    "- 50% - C - GOOD - graph is communicative, appropriate and similar complexity as in the notes\n",
    "- 60% - B - VERY GOOD - graph is customised and combines a number of styles and types of visualisation\n",
    "- 70% - A - EXCELLENT - graph is using clear visual language to make a point, adds to the argument, and is of publishable quality\n",
    "\n",
    "**Code Quality:**\n",
    "\n",
    "Is your code clean, readable and DRY (Don't repeat yourself)? Are you using good readable variable names? Did you clean up your code and does it not include any old/unused parts?\n",
    " \n",
    "- 50% - C - GOOD - code has meaningful variable names, no needlessly repeated code\n",
    "- 60% - B - VERY GOOD - also signposted, reasonably commented and cleaned up\n",
    "- 70% - A - EXCELLENT - also code has a logical flow, consistency of names and granularity/size\n",
    "\n",
    "**Code Structure:**\n",
    "\n",
    "Is your code well structured and broken down? Just like good writing has sentences, paragraphs and chapters, good code should be split into sections. Break down your code into cells and functions. Use meaningful signposts (eg. comments, function names) to guide the reader through your code.\n",
    " \n",
    "- 50% - C - GOOD - code is broken down into cells, by the code's purpose\n",
    "- 60% - B - VERY GOOD - code is broken down by cell and also separated and readable. Attempts on reusing code are made\n",
    "- 70% - A - EXCELLENT - code is split into functions and/or objects and can be easily reused"
   ]
  },
  {
   "cell_type": "markdown",
   "metadata": {},
   "source": [
    "## 3. Dataset and Example Questions:\n",
    "\n",
    "You are given a dataset with information about 15060 practices in England and Wales. Have a look at this data. What can you say about it? What is interesting in this data, espacially for the NHS coordinators: what cities have most practices? Which ones are still operational? How long do practices exist (if they have 'Close Date')?\n",
    "\n",
    "Do not try to find something complicated, just provide some overview of the data. Also there is no need to analyse data (corelations etc.). It's better to try to describe and visualise what you see in the data.\n",
    "\n",
    "Example data about one GP practice:\n",
    "\n",
    "```\n",
    "{'Adress': {'Address line 1': 'THE HEALTH CENTRE',\n",
    "            'Address line 2': 'LAWSON STREET',\n",
    "            'Address line 3': 'STOCKTON-ON-TEES',\n",
    "            'Address line 4': 'CLEVELAND',\n",
    "            'Area': 'CLEVELAND',\n",
    "            'City': 'STOCKTON-ON-TEES',\n",
    "            'Full Postal Address': 'THE HEALTH CENTRE, LAWSON STREET, '\n",
    "                                   'STOCKTON-ON-TEES, CLEVELAND',\n",
    "            'Postcode': 'TS18 1HU',\n",
    "            'Telephone': '01642 672351'},\n",
    " 'Name': 'THE DENSHAM SURGERY',\n",
    " 'Organisation Code': 'A81001',\n",
    " 'Prescribing Setting': '4',\n",
    " 'Status': {'Close Date': '', 'Open Date': '19740401', 'Status Code': 'A'}}\n",
    " ```"
   ]
  },
  {
   "cell_type": "markdown",
   "metadata": {},
   "source": [
    "### Example questions:\n",
    "\n",
    "- what are the cities where there are most practices? Can you visualise the most popular ones?\n",
    "- Look at how many practices are 'Closed' and how many are 'Active'? Are there differences between these for large cities (those with many GPs)?\n",
    "- For 'Closed' practices, how long did they exist on average?\n",
    "\n",
    "Use one of these questions, or come up with your own. Make sure you clearly state your question in the mini-report."
   ]
  },
  {
   "cell_type": "markdown",
   "metadata": {},
   "source": [
    "### Starting code: No need to change it. This code just loads data for you:"
   ]
  },
  {
   "cell_type": "code",
   "execution_count": null,
   "metadata": {
    "scrolled": true
   },
   "outputs": [],
   "source": [
    "# this is commented out, because it should not be needed on noteable \n",
    "# (but might be needed if you are using notebooks on your own laptop, with anaconda)\n",
    "# if it does not work (on your own machine), you might also try the command below with pip3 instead of pip\n",
    "\n",
    "# !pip install plotly --upgrade\n",
    "# !pip3 install plotly --upgrade"
   ]
  },
  {
   "cell_type": "code",
   "execution_count": null,
   "metadata": {},
   "outputs": [],
   "source": [
    "# the usual imports\n",
    "from plotly.subplots import make_subplots\n",
    "import plotly.graph_objects as go"
   ]
  },
  {
   "cell_type": "code",
   "execution_count": null,
   "metadata": {},
   "outputs": [],
   "source": [
    "import pprint as pp\n",
    "from datetime import datetime, timedelta, date, timezone\n",
    "import json"
   ]
  },
  {
   "cell_type": "code",
   "execution_count": null,
   "metadata": {},
   "outputs": [],
   "source": [
    "# Let's load the data from the files.\n",
    "# original data from:\n",
    "# gp data from https://digital.nhs.uk/services/organisation-data-service/file-downloads/gp-and-gp-practice-related-data"
   ]
  },
  {
   "cell_type": "code",
   "execution_count": null,
   "metadata": {},
   "outputs": [],
   "source": [
    "# this function just loads the data from files, there is no need to understand how it does it.\n",
    "\n",
    "def load_json_file_named(file_name):\n",
    "    try: \n",
    "        loaded_data = []\n",
    "        file_location = f\"../data/{file_name}\"\n",
    "        with open(file_location, 'r') as file: # or f\"data/{file_name}\" depending on your files\n",
    "            loaded_data =  json.load(file)\n",
    "    except OSError as e:\n",
    "        print(f\"Error. Does the file exist in this folder? {file_location}\\n\\n {e}\")\n",
    "    return loaded_data\n",
    "\n",
    "# btw. above we use here error try-catching:\n",
    "# try is like \"while there are no trouble, continue\". If there is trouble... jump to 'except'\n",
    "# see if work: change folder name above from 'data' to something silly, like 'banana'.\n",
    "# you will see error: \"No such file or directory\""
   ]
  },
  {
   "cell_type": "code",
   "execution_count": null,
   "metadata": {},
   "outputs": [],
   "source": [
    "gp_practices = load_json_file_named('gp_practices.json')\n",
    "print(f'all files loaded. Data length: {len(gp_practices)}')\n",
    "print(\"first data point:\")\n",
    "pp.pprint(gp_practices[0])"
   ]
  },
  {
   "cell_type": "markdown",
   "metadata": {},
   "source": [
    "### End of starting code!"
   ]
  },
  {
   "cell_type": "code",
   "execution_count": null,
   "metadata": {},
   "outputs": [],
   "source": []
  },
  {
   "cell_type": "markdown",
   "metadata": {},
   "source": [
    "## How to interpret this data?\n",
    "\n",
    "you now have a variable `gp_practices` which holds information about 15060 GP practoces in England (and a few around UK).\n",
    "\n",
    "Look at this data. Most of it is self explanatory. It has 5 keys: 'Organisation Code', 'Name', 'Adress', 'Status', 'Prescribing Setting'. Some keys, are more complex, like Address or Status, and hold information inside. \n",
    "\n",
    "\n",
    "Some values are encoded, eg. Status Code can hold a letter A, C, D or P. See below for the key.\n",
    "\n",
    "```\n",
    "A = Active\n",
    "C = Closed\n",
    "D = Dormant \n",
    "P = Proposed\n",
    "```\n",
    "\n",
    "While Prescribing Setting, hold a number, see key below:\n",
    "\n",
    "```\n",
    "0 = Other\n",
    "1 = WIC Practice\n",
    "2 = OOH Practice\n",
    "3 = WIC + OOH Practice\n",
    "4 = GP Practice\n",
    "8 = Public Health Service\n",
    "9 = Community Health Service\n",
    "10 = Hospital Service\n",
    "11 = Optometry Service\n",
    "12 = Urgent & Emergency Care\n",
    "13 = Hospice\n",
    "14 = Care Home / Nursing Home\n",
    "15 = Border Force\n",
    "16 = Young Offender Institution\n",
    "17 = Secure Training Centre\n",
    "18 = Secure Children's Home\n",
    "19 = Immigration Removal Centre 20 = Court\n",
    "21 = Police Custody\n",
    "22 = Sexual Assault Referral Centre (SARC)\n",
    "24 = Other – Justice Estate\n",
    "25 = Prison\n",
    "```"
   ]
  },
  {
   "cell_type": "code",
   "execution_count": null,
   "metadata": {},
   "outputs": [],
   "source": [
    "# let's grab one GP practice:\n",
    "pp.pprint(gp_practices[0])"
   ]
  },
  {
   "cell_type": "code",
   "execution_count": null,
   "metadata": {},
   "outputs": [],
   "source": [
    "[gp['Address'][\"Area\"]\n",
    "    for gp in gp_practices\n",
    "    if gp['Prescribing Setting'] == '4'\n",
    "]"
   ]
  },
  {
   "cell_type": "code",
   "execution_count": null,
   "metadata": {},
   "outputs": [],
   "source": [
    "# It has 5 keys: 'Organisation Code', 'Name', 'Adress', 'Status', 'Prescribing Setting'\n",
    "pp.pprint(gp_practices[0].keys())"
   ]
  },
  {
   "cell_type": "markdown",
   "metadata": {},
   "source": [
    "### Example code: how many 'Prescribing Setting' of each type there are?"
   ]
  },
  {
   "cell_type": "code",
   "execution_count": null,
   "metadata": {},
   "outputs": [],
   "source": [
    "# To get more info about what data means have a look at the file gppractices.pdf in /data folder\n",
    "# or google around it. \n",
    "# note that the data provider does not really explain what 'Prescribing Setting' means :(\n",
    "# So we need to guess, or figure it out.\n",
    "\n",
    "def prescribing_setting_report(all_practices):\n",
    "    prescribing_settings_meanings = {\n",
    "        '0':'Other',\n",
    "        '1':'WIC Practice',\n",
    "        '2':'OOH Practice',\n",
    "        '3':'WIC + OOH Practice',\n",
    "        '4':'GP Practice',\n",
    "        '8':'Public Health Service',\n",
    "        '9':'Community Health Service',\n",
    "        '10':'Hospital Service',\n",
    "        '11':'Optometry Service',\n",
    "        '12':'Urgent & Emergency Care',\n",
    "        '13':'Hospice',\n",
    "        '14':'Care Home / Nursing Home',\n",
    "        '15':'Border Force',\n",
    "        '16':'Young Offender Institution',\n",
    "        '17':'Secure Training Centre',\n",
    "        '18':'Secure Children/s Home',\n",
    "        '19':'Immigration Removal Centre',\n",
    "        '20':'Court',\n",
    "        '21':'Police Custody',\n",
    "        '22':'Sexual Assault Referral Centre (SARC)',\n",
    "        '24':'Other – Justice Estate',\n",
    "        '25':'Prison'}\n",
    "\n",
    "    all_settings = [gp['Prescribing Setting'] \n",
    "                for gp in all_practices ]\n",
    "    \n",
    "    settings_unique = set(all_settings)\n",
    "\n",
    "    for setting in settings_unique:\n",
    "        meanings = prescribing_settings_meanings[setting]\n",
    "        frequency = all_settings.count(setting)\n",
    "        print(f\"{meanings:.<40} occures {frequency: >5} times\")\n",
    "\n",
    "prescribing_setting_report(gp_practices)"
   ]
  },
  {
   "cell_type": "code",
   "execution_count": null,
   "metadata": {},
   "outputs": [],
   "source": []
  },
  {
   "cell_type": "markdown",
   "metadata": {},
   "source": [
    "# TestDrive Assignment Solution:"
   ]
  },
  {
   "cell_type": "markdown",
   "metadata": {},
   "source": [
    "## Your Code:"
   ]
  },
  {
   "cell_type": "code",
   "execution_count": null,
   "metadata": {},
   "outputs": [],
   "source": []
  },
  {
   "cell_type": "code",
   "execution_count": null,
   "metadata": {},
   "outputs": [],
   "source": []
  },
  {
   "cell_type": "code",
   "execution_count": null,
   "metadata": {},
   "outputs": [],
   "source": []
  },
  {
   "cell_type": "markdown",
   "metadata": {},
   "source": [
    "## Visualisation:"
   ]
  },
  {
   "cell_type": "code",
   "execution_count": null,
   "metadata": {},
   "outputs": [],
   "source": []
  },
  {
   "cell_type": "code",
   "execution_count": null,
   "metadata": {},
   "outputs": [],
   "source": []
  },
  {
   "cell_type": "markdown",
   "metadata": {},
   "source": [
    "## Your mini-report:"
   ]
  },
  {
   "cell_type": "markdown",
   "metadata": {},
   "source": [
    "Notice, this is not a typical 'code' cell! It is called 'Markdown' and you can change a type of cell in the meny next to the Run button in the top menu.\n",
    "\n",
    "**Markdown Cells** are text. you can highlight things by surrpounfing them with ** and you can make headers by starting lines with # or ##\n",
    "\n",
    "**Code Cells** are just normal cells with python code you are used to\n",
    "\n",
    "Write your report in a Markdown cell like this one"
   ]
  },
  {
   "cell_type": "code",
   "execution_count": null,
   "metadata": {},
   "outputs": [],
   "source": []
  }
 ],
 "metadata": {
  "kernelspec": {
   "display_name": "Python 3 (ipykernel)",
   "language": "python",
   "name": "python3"
  },
  "language_info": {
   "codemirror_mode": {
    "name": "ipython",
    "version": 3
   },
   "file_extension": ".py",
   "mimetype": "text/x-python",
   "name": "python",
   "nbconvert_exporter": "python",
   "pygments_lexer": "ipython3",
   "version": "3.9.13"
  }
 },
 "nbformat": 4,
 "nbformat_minor": 2
}
