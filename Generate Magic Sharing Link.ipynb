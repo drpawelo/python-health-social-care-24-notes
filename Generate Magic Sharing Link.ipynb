{
 "cells": [
  {
   "cell_type": "markdown",
   "id": "f3c43ee6",
   "metadata": {},
   "source": [
    "You can use this notebook to generate a sharing link.\n",
    "\n",
    "Remember that it should NOT be the case that more than one person has the same notebook opened at the same time. So when it is time to change:\n",
    "    \n",
    "    - old driver saves the notebook, and closes the tab\n",
    "    - the new driver opens the notebook (use the link, and navigate to where you need to be)\n",
    "    \n",
    "If you see \"Notebook Changed\" error (big and red), the the person who has 'most up to date version of the code' should click Overwrite button."
   ]
  },
  {
   "cell_type": "code",
   "execution_count": 2,
   "id": "light-reason",
   "metadata": {},
   "outputs": [
    {
     "name": "stdout",
     "output_type": "stream",
     "text": [
      "\r\n",
      "\r\n",
      "Link below can be send to someone to share your Noteable session:\r\n",
      "\r\n",
      "https://noteable.edina.ac.uk/user/3hg6fdvjsmjm4xveommxct/tree?token=y-1gqH3FRO6Q9xWK7J6xbA\r\n",
      "\r\n"
     ]
    }
   ],
   "source": [
    "#  run this cell without changing it. It only works on Noteable.\n",
    "! printf \"\\n\\nLink below can be send to someone to share your Noteable session:\\n\\nhttps://noteable.edina.ac.uk/user/$(jupyter notebook list | grep -oP '(?<=user\\/).*(?=\\/\\?)' )/tree?token=$( jupyter notebook list | grep -oP '(?<=token=).*(?= ::)' )\\n\\n\""
   ]
  }
 ],
 "metadata": {
  "kernelspec": {
   "display_name": "Python 3 (ipykernel)",
   "language": "python",
   "name": "python3"
  },
  "language_info": {
   "codemirror_mode": {
    "name": "ipython",
    "version": 3
   },
   "file_extension": ".py",
   "mimetype": "text/x-python",
   "name": "python",
   "nbconvert_exporter": "python",
   "pygments_lexer": "ipython3",
   "version": "3.9.13"
  }
 },
 "nbformat": 4,
 "nbformat_minor": 5
}
